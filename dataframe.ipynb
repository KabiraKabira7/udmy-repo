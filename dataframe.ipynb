{
 "cells": [
  {
   "cell_type": "code",
   "execution_count": 1,
   "id": "058050c5",
   "metadata": {},
   "outputs": [],
   "source": [
    "import numpy as np\n",
    "import pandas as pd"
   ]
  },
  {
   "cell_type": "markdown",
   "id": "725b1b04",
   "metadata": {},
   "source": [
    "## DataFrames Continuation"
   ]
  },
  {
   "cell_type": "code",
   "execution_count": null,
   "id": "c9b074e7",
   "metadata": {},
   "outputs": [],
   "source": [
    "#DataFrame is a table columns and rows in pandas that we caesily restructure and filter\n",
    "#FORMAL DEFINITION~ A group of pandas series objects that share the same index\n",
    "#DataFrame-several series thatb have to share same index\n",
    "#each individual column is a pandas series but they(columns) allshare same index in a table\n",
    "#DF is the main pandas object we will work with and it is extremely useful"
   ]
  },
  {
   "cell_type": "code",
   "execution_count": 2,
   "id": "e2c1efe1",
   "metadata": {},
   "outputs": [],
   "source": [
    "#how to create a df from python objects\n",
    "#or how to read a csv file from a data frame\n",
    "#how to create;\n",
    "np.random.seed(101)\n",
    "mydata = np.random.randint(0,101,(4,3))\n",
    "\n",
    "#✅ Why 2D?(The matrix formed above is 2D because);\n",
    "#A 1D array looks like: [95, 11, 81] — just a simple list of values.\n",
    "\n",
    "#A 2D array is a list of lists: each inner list is a row.\n",
    "\n",
    "#It has both:\n",
    "\n",
    "#an axis 0 (rows)\n",
    "\n",
    "#and an axis 1 (columns)\n",
    "\n",
    "#So this array has shape:\n",
    "#(4, 3)\n",
    "#Meaning 4 rows and 3 columns → hence, two dimensions.\n",
    "\n",
    "\n",
    "#🔷 1. 3D Array\n",
    "#A 3D array is like a stack of 2D matrices.\n",
    "\n",
    "#Example:\n",
    "\n",
    "#arr_3d = np.array([\n",
    "   # [[1, 2, 3], [4, 5, 6]],       # Matrix 1 (2 rows × 3 cols)\n",
    "    #[[7, 8, 9], [10, 11, 12]]     # Matrix 2 (2 rows × 3 cols)])\n",
    "#print(arr_3d.shape)  # Output: (2, 2, 3)\n",
    "#print(arr_3d.ndim)   # Output: 3\n",
    "#Breakdown:\n",
    "#2 blocks (or matrices) → axis 0\n",
    "\n",
    "#Each block has 2 rows → axis 1\n",
    "\n",
    "#Each row has 3 columns → axis 2\n",
    "\n",
    "#📌 Think of it like:\n",
    "#📦 A box (3D) with shape: 2 matrices × 2 rows × 3 columns\n",
    "#[ [ [1, 2, 3],\n",
    "  #  [4, 5, 6] ],\n",
    "\n",
    "  #[ [7, 8, 9],\n",
    "    #[10, 11, 12] ]]\n",
    "#🔶 2. 4D Array\n",
    "#A 4D array is a collection of 3D arrays — think of it like multiple cubes in a row.\n",
    "\n",
    "#Example:\n",
    "#arr_4d = np.array([ [   \n",
    "# 3D block 1\n",
    " #       [[1, 2], [3, 4]],\n",
    "#        [[5, 6], [7, 8]]\n",
    "# ],\n",
    " #   [   # 3D block 2\n",
    " #       [[9, 10], [11, 12]],\n",
    "   #     [[13, 14], [15, 16]]]])\n",
    "\n",
    "#print(arr_4d.shape)  # Output: (2, 2, 2, 2)\n",
    "#print(arr_4d.ndim)   # Output: 4\n",
    "#Breakdown:\n",
    "#2 3D blocks → axis 0\n",
    "\n",
    "#Each block has 2 matrices → axis 1\n",
    "\n",
    "#Each matrix has 2 rows → axis 2\n",
    "\n",
    "#Each row has 2 columns → axis 3\n",
    "\n",
    "#📦 Imagine:\n",
    "#→ 2 Cubes → each with 2 matrices → each matrix has 2 rows × 2 cols\n",
    "\n",
    "#🧠 Summary Table\n",
    "#Dimension\tMeaning\tShape Example\n",
    "#1D\tVector\t(4,)\n",
    "#2D\tMatrix\t(3, 4)\n",
    "#3D\tStack of Matrices\t(2, 3, 4)\n",
    "#4D\tCollection of Matrix Stacks\t(2, 2, 3, 4)"
   ]
  },
  {
   "cell_type": "markdown",
   "id": "b5aba0bc",
   "metadata": {},
   "source": []
  },
  {
   "cell_type": "code",
   "execution_count": 3,
   "id": "cd8939df",
   "metadata": {},
   "outputs": [
    {
     "data": {
      "text/plain": [
       "array([[95, 11, 81],\n",
       "       [70, 63, 87],\n",
       "       [75,  9, 77],\n",
       "       [40,  4, 63]], dtype=int32)"
      ]
     },
     "execution_count": 3,
     "metadata": {},
     "output_type": "execute_result"
    }
   ],
   "source": [
    "mydata"
   ]
  }
 ],
 "metadata": {
  "kernelspec": {
   "display_name": "Python 3",
   "language": "python",
   "name": "python3"
  },
  "language_info": {
   "codemirror_mode": {
    "name": "ipython",
    "version": 3
   },
   "file_extension": ".py",
   "mimetype": "text/x-python",
   "name": "python",
   "nbconvert_exporter": "python",
   "pygments_lexer": "ipython3",
   "version": "3.13.3"
  }
 },
 "nbformat": 4,
 "nbformat_minor": 5
}
