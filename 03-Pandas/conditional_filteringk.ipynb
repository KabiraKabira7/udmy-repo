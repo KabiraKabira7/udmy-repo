{
 "cells": [
  {
   "cell_type": "markdown",
   "id": "cca6103f",
   "metadata": {},
   "source": [
    "### *Conditional filtering* \n",
    "#### *Enables to select columns or rows based on a condition*\n",
    "##### *columns are features*\n",
    "##### *rows are instances of data*\n",
    "\n",
    "##### *we will cover;*\n",
    "##### *-filter by single condition*\n",
    "##### *-filter by multiple condition*\n",
    "##### *-check against multiple possible values*"
   ]
  },
  {
   "cell_type": "code",
   "execution_count": 1,
   "id": "5c6a8583",
   "metadata": {},
   "outputs": [],
   "source": [
    "import pandas as pd\n",
    "import numpy as np"
   ]
  }
 ],
 "metadata": {
  "kernelspec": {
   "display_name": "Python 3",
   "language": "python",
   "name": "python3"
  },
  "language_info": {
   "codemirror_mode": {
    "name": "ipython",
    "version": 3
   },
   "file_extension": ".py",
   "mimetype": "text/x-python",
   "name": "python",
   "nbconvert_exporter": "python",
   "pygments_lexer": "ipython3",
   "version": "3.13.3"
  }
 },
 "nbformat": 4,
 "nbformat_minor": 5
}
